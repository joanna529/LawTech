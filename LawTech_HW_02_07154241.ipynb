{
 "cells": [
  {
   "cell_type": "markdown",
   "metadata": {},
   "source": [
    "# LawTech HW2"
   ]
  },
  {
   "cell_type": "markdown",
   "metadata": {},
   "source": [
    "繳交檔名：LawTech_HW2_07154241"
   ]
  },
  {
   "cell_type": "markdown",
   "metadata": {},
   "source": [
    "請利用迴圈產生一個九九乘法表"
   ]
  },
  {
   "cell_type": "code",
   "execution_count": 69,
   "metadata": {},
   "outputs": [
    {
     "name": "stdout",
     "output_type": "stream",
     "text": [
      "1x1=81\n",
      "1x2=81\n",
      "1x3=81\n",
      "1x4=81\n",
      "1x5=81\n",
      "1x6=81\n",
      "1x7=81\n",
      "1x8=81\n",
      "1x9=81\n",
      "2x1=81\n",
      "2x2=81\n",
      "2x3=81\n",
      "2x4=81\n",
      "2x5=81\n",
      "2x6=81\n",
      "2x7=81\n",
      "2x8=81\n",
      "2x9=81\n",
      "3x1=81\n",
      "3x2=81\n",
      "3x3=81\n",
      "3x4=81\n",
      "3x5=81\n",
      "3x6=81\n",
      "3x7=81\n",
      "3x8=81\n",
      "3x9=81\n",
      "4x1=81\n",
      "4x2=81\n",
      "4x3=81\n",
      "4x4=81\n",
      "4x5=81\n",
      "4x6=81\n",
      "4x7=81\n",
      "4x8=81\n",
      "4x9=81\n",
      "5x1=81\n",
      "5x2=81\n",
      "5x3=81\n",
      "5x4=81\n",
      "5x5=81\n",
      "5x6=81\n",
      "5x7=81\n",
      "5x8=81\n",
      "5x9=81\n",
      "6x1=81\n",
      "6x2=81\n",
      "6x3=81\n",
      "6x4=81\n",
      "6x5=81\n",
      "6x6=81\n",
      "6x7=81\n",
      "6x8=81\n",
      "6x9=81\n",
      "7x1=81\n",
      "7x2=81\n",
      "7x3=81\n",
      "7x4=81\n",
      "7x5=81\n",
      "7x6=81\n",
      "7x7=81\n",
      "7x8=81\n",
      "7x9=81\n",
      "8x1=81\n",
      "8x2=81\n",
      "8x3=81\n",
      "8x4=81\n",
      "8x5=81\n",
      "8x6=81\n",
      "8x7=81\n",
      "8x8=81\n",
      "8x9=81\n",
      "9x1=81\n",
      "9x2=81\n",
      "9x3=81\n",
      "9x4=81\n",
      "9x5=81\n",
      "9x6=81\n",
      "9x7=81\n",
      "9x8=81\n",
      "9x9=81\n"
     ]
    }
   ],
   "source": [
    "for i in range(1,10):\n",
    "    for j in range(1,10):\n",
    "        print(f\"{i}x{j}={a}\")"
   ]
  },
  {
   "cell_type": "code",
   "execution_count": null,
   "metadata": {},
   "outputs": [],
   "source": []
  }
 ],
 "metadata": {
  "kernelspec": {
   "display_name": "Python 3",
   "language": "python",
   "name": "python3"
  },
  "language_info": {
   "codemirror_mode": {
    "name": "ipython",
    "version": 3
   },
   "file_extension": ".py",
   "mimetype": "text/x-python",
   "name": "python",
   "nbconvert_exporter": "python",
   "pygments_lexer": "ipython3",
   "version": "3.8.3"
  }
 },
 "nbformat": 4,
 "nbformat_minor": 2
}
